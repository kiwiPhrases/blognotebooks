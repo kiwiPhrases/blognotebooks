{
 "cells": [
  {
   "cell_type": "code",
   "execution_count": 5,
   "metadata": {},
   "outputs": [],
   "source": [
    "import pandas as pd\n",
    "import geopandas as gpd\n",
    "import numpy as np\n",
    "import os, re\n",
    "data_path = \"C:/Users/SpiffyApple/Documents/USC/OwnResearch/marketShare\"\n",
    "\n",
    "import matplotlib.pyplot as plt\n",
    "%matplotlib inline\n",
    "jet = plt.get_cmap('jet')\n",
    "\n",
    "import geopandas as gpd\n",
    "from geopandas.tools import sjoin\n",
    "from shapely.geometry import Point\n",
    "\n",
    "import itertools\n",
    "\n",
    "data_path = 'C:/Users/SpiffyApple/Documents/USC/OwnResearch/marketShare'"
   ]
  },
  {
   "cell_type": "markdown",
   "metadata": {},
   "source": [
    "# Purpose\n",
    "\n",
    "The purpose of this notebook is to merge NC parcels with block group TIGER data\n",
    "\n",
    "The goal is to then merge the files using the address fields"
   ]
  },
  {
   "cell_type": "markdown",
   "metadata": {},
   "source": [
    "## Parcel Data"
   ]
  },
  {
   "cell_type": "code",
   "execution_count": 6,
   "metadata": {},
   "outputs": [],
   "source": [
    "# load parcel data\n",
    "parcels = gpd.read_file(\"/\".join([data_path, 'wake_parcels','nc_wake_parcels_pt.shp']))"
   ]
  },
  {
   "cell_type": "code",
   "execution_count": 27,
   "metadata": {},
   "outputs": [
    {
     "data": {
      "text/plain": [
       "array(['Wake'], dtype=object)"
      ]
     },
     "execution_count": 27,
     "metadata": {},
     "output_type": "execute_result"
    }
   ],
   "source": [
    "# verify the data are for Wake County\n",
    "parcels.loc[:,'CNTYNAME'].unique()"
   ]
  },
  {
   "cell_type": "code",
   "execution_count": 41,
   "metadata": {},
   "outputs": [
    {
     "data": {
      "text/html": [
       "<div>\n",
       "<style scoped>\n",
       "    .dataframe tbody tr th:only-of-type {\n",
       "        vertical-align: middle;\n",
       "    }\n",
       "\n",
       "    .dataframe tbody tr th {\n",
       "        vertical-align: top;\n",
       "    }\n",
       "\n",
       "    .dataframe thead th {\n",
       "        text-align: right;\n",
       "    }\n",
       "</style>\n",
       "<table border=\"1\" class=\"dataframe\">\n",
       "  <thead>\n",
       "    <tr style=\"text-align: right;\">\n",
       "      <th></th>\n",
       "      <th>MAILADD</th>\n",
       "      <th>MCITY</th>\n",
       "    </tr>\n",
       "  </thead>\n",
       "  <tbody>\n",
       "    <tr>\n",
       "      <th>38535</th>\n",
       "      <td>115 S SAINT MARYS ST</td>\n",
       "      <td>RALEIGH NC 27603-1699</td>\n",
       "    </tr>\n",
       "    <tr>\n",
       "      <th>44408</th>\n",
       "      <td>115 S SAINT MARYS ST</td>\n",
       "      <td>RALEIGH NC 27603-1699</td>\n",
       "    </tr>\n",
       "    <tr>\n",
       "      <th>62831</th>\n",
       "      <td>115 S SAINT MARYS ST</td>\n",
       "      <td>RALEIGH NC 27603-1699</td>\n",
       "    </tr>\n",
       "    <tr>\n",
       "      <th>94784</th>\n",
       "      <td>115 S SAINT MARYS ST</td>\n",
       "      <td>RALEIGH NC 27603-1699</td>\n",
       "    </tr>\n",
       "    <tr>\n",
       "      <th>249311</th>\n",
       "      <td>115 S SAINT MARYS ST</td>\n",
       "      <td>RALEIGH NC 27603-1699</td>\n",
       "    </tr>\n",
       "  </tbody>\n",
       "</table>\n",
       "</div>"
      ],
      "text/plain": [
       "                     MAILADD                  MCITY\n",
       "38535   115 S SAINT MARYS ST  RALEIGH NC 27603-1699\n",
       "44408   115 S SAINT MARYS ST  RALEIGH NC 27603-1699\n",
       "62831   115 S SAINT MARYS ST  RALEIGH NC 27603-1699\n",
       "94784   115 S SAINT MARYS ST  RALEIGH NC 27603-1699\n",
       "249311  115 S SAINT MARYS ST  RALEIGH NC 27603-1699"
      ]
     },
     "execution_count": 41,
     "metadata": {},
     "output_type": "execute_result"
    }
   ],
   "source": [
    "# check owner name against something matchable in the assessor dataset\n",
    "parcels.loc[parcels.OWNNAME.str.contains(\"COLEMAN GROUP INC\"),['MAILADD','MCITY']]"
   ]
  },
  {
   "cell_type": "code",
   "execution_count": 15,
   "metadata": {},
   "outputs": [],
   "source": [
    "# load TIGER file\n",
    "bg = gpd.read_file(\"/\".join([data_path, 'tl_2010_37183_bg10','tl_2010_37183_bg10.shp']))"
   ]
  },
  {
   "cell_type": "code",
   "execution_count": 38,
   "metadata": {},
   "outputs": [],
   "source": [
    "# drop parcels without an owner\n",
    "parcels = parcels[parcels.OWNNAME.notnull()]"
   ]
  },
  {
   "cell_type": "code",
   "execution_count": 42,
   "metadata": {},
   "outputs": [],
   "source": [
    "# keep a select number of features\n",
    "cols2keep = ['ALTPARNO','PARNO','PARUSECODE','PARUSEDESC','OWNNAME','MAILADD','MCITY','geometry']\n",
    "parcels = parcels.loc[:,cols2keep]"
   ]
  },
  {
   "cell_type": "code",
   "execution_count": 57,
   "metadata": {},
   "outputs": [],
   "source": [
    "#parcels.to_crs('epsg:4269')"
   ]
  },
  {
   "cell_type": "code",
   "execution_count": 49,
   "metadata": {},
   "outputs": [
    {
     "data": {
      "text/plain": [
       "{'proj': 'lcc',\n",
       " 'lat_1': 34.33333333333334,\n",
       " 'lat_2': 36.16666666666666,\n",
       " 'lat_0': 33.75,\n",
       " 'lon_0': -79,\n",
       " 'x_0': 609601.2199999999,\n",
       " 'y_0': 0,\n",
       " 'datum': 'NAD83',\n",
       " 'units': 'us-ft',\n",
       " 'no_defs': True}"
      ]
     },
     "execution_count": 49,
     "metadata": {},
     "output_type": "execute_result"
    }
   ],
   "source": [
    "parcels.crs"
   ]
  },
  {
   "cell_type": "code",
   "execution_count": 50,
   "metadata": {},
   "outputs": [],
   "source": [
    "# save parcel data to then re-project in QGIS to epsg4269\n",
    "# have to do this because geopandas' reprojection doesn't work\n",
    "parcels.to_file(\"/\".join([data_path, 'parcels_ver0.shp']))"
   ]
  },
  {
   "cell_type": "markdown",
   "metadata": {},
   "source": [
    "## TIGER data"
   ]
  },
  {
   "cell_type": "code",
   "execution_count": 43,
   "metadata": {},
   "outputs": [],
   "source": [
    "bg = gpd.read_file(\"/\".join([data_path, 'tl_2010_37183_bg10','tl_2010_37183_bg10.shp']))"
   ]
  },
  {
   "cell_type": "code",
   "execution_count": 46,
   "metadata": {},
   "outputs": [],
   "source": [
    "cols2drop = ['NAMELSAD10', 'MTFCC10', 'FUNCSTAT10', 'ALAND10', 'AWATER10',\n",
    "       'INTPTLAT10', 'INTPTLON10']\n",
    "bg.drop(cols2drop,axis=1,inplace=True)"
   ]
  },
  {
   "cell_type": "markdown",
   "metadata": {},
   "source": [
    "# Combine the two data sets"
   ]
  },
  {
   "cell_type": "code",
   "execution_count": 56,
   "metadata": {},
   "outputs": [],
   "source": [
    "pr = gpd.read_file(\"/\".join([data_path, 'wake_parcels', 'parcels_ver1.shp']))"
   ]
  },
  {
   "cell_type": "code",
   "execution_count": 58,
   "metadata": {},
   "outputs": [],
   "source": [
    "df = gpd.sjoin(pr,bg,how='left')"
   ]
  },
  {
   "cell_type": "code",
   "execution_count": 66,
   "metadata": {},
   "outputs": [
    {
     "name": "stdout",
     "output_type": "stream",
     "text": [
      "Is merged same size as parcels data: True\n"
     ]
    }
   ],
   "source": [
    "print(\"Is merged same size as parcels data: %s\" %(df.shape[0] == pr.shape[0]))"
   ]
  },
  {
   "cell_type": "code",
   "execution_count": 67,
   "metadata": {},
   "outputs": [
    {
     "name": "stdout",
     "output_type": "stream",
     "text": [
      "Number of block groups in TIGER and merged files: 455 and 454 respectively\n"
     ]
    }
   ],
   "source": [
    "i = bg.GEOID10.unique().shape[0]\n",
    "j = df.GEOID10.unique().shape[0]\n",
    "print(\"Number of block groups in TIGER and merged files: %d and %d respectively\" %(i,j))"
   ]
  },
  {
   "cell_type": "code",
   "execution_count": 68,
   "metadata": {},
   "outputs": [],
   "source": [
    "df.drop(['geometry'],axis=1).to_csv(\"/\".join([data_path, 'geocoded_wake_parcels.csv']))"
   ]
  }
 ],
 "metadata": {
  "kernelspec": {
   "display_name": "Python 3",
   "language": "python",
   "name": "python3"
  },
  "language_info": {
   "codemirror_mode": {
    "name": "ipython",
    "version": 3
   },
   "file_extension": ".py",
   "mimetype": "text/x-python",
   "name": "python",
   "nbconvert_exporter": "python",
   "pygments_lexer": "ipython3",
   "version": "3.7.6"
  }
 },
 "nbformat": 4,
 "nbformat_minor": 4
}
