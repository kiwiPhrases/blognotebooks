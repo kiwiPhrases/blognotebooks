{
 "cells": [
  {
   "cell_type": "code",
   "execution_count": 1,
   "metadata": {},
   "outputs": [],
   "source": [
    "import pandas as pd\n",
    "import numpy as np\n",
    "import os, re\n",
    "data_path = \"C:/Users/SpiffyApple/Documents/USC/OwnResearch/marketShare\"\n",
    "\n",
    "import matplotlib.pyplot as plt\n",
    "%matplotlib inline\n",
    "jet = plt.get_cmap('jet')\n",
    "\n",
    "import statsmodels.api as sm\n",
    "import statsmodels.formula.api as smf\n",
    "from statsmodels.sandbox.regression.predstd import wls_prediction_std\n",
    "from statsmodels.regression.linear_model import WLS\n",
    "import seaborn as sns\n",
    "from statsmodels.stats.weightstats import ttest_ind\n",
    "\n",
    "import geopandas as gpd\n",
    "from geopandas.tools import sjoin\n",
    "from shapely.geometry import Point\n",
    "\n",
    "import itertools"
   ]
  },
  {
   "cell_type": "code",
   "execution_count": 2,
   "metadata": {},
   "outputs": [],
   "source": [
    "#convenience function\n",
    "def toLatex(tmpDF, file_name, reg=False):\n",
    "    with open(\"/\".join([data_path,file_name]), 'w+') as f:\n",
    "        if reg==False:\n",
    "            f.write(tmpDF.to_latex())\n",
    "        if reg:\n",
    "            f.write(tmpDF.as_latex())\n",
    "    return(tmpDF)\n",
    "\n",
    "def toExcel(tmpDF, file_name):\n",
    "    tmpDF.to_excel(\"/\".join([data_path,file_name]))\n",
    "    return(tmpDF)"
   ]
  },
  {
   "cell_type": "code",
   "execution_count": 3,
   "metadata": {},
   "outputs": [],
   "source": [
    "def findcol(keyphrase):\n",
    "    #convenience function\n",
    "    return df.columns[df.columns.str.lower().str.contains(keyphrase)]"
   ]
  },
  {
   "cell_type": "markdown",
   "metadata": {},
   "source": [
    "# Wake County Data\n",
    "\n",
    "Assessor data come from [here](http://www.wakegov.com/tax/realestate/redatafile/Pages/default.aspx)\n",
    "\n",
    "\n",
    "Land use [codes](http://www.wakegov.com/tax/realestate/Documents/CodeDescriptions.pdf)\n",
    "\n",
    "Lat/lon data on parcels come from [NC OneMap](https://services.nconemap.gov/ncom-parcels-dd.htm). Lat/lon data are merged with Block Group data from US Census [Tiger](https://www2.census.gov/geo/pvs/tiger2010st/37_North_Carolina/37183/)"
   ]
  },
  {
   "cell_type": "markdown",
   "metadata": {},
   "source": [
    "### Load data"
   ]
  },
  {
   "cell_type": "code",
   "execution_count": 4,
   "metadata": {},
   "outputs": [
    {
     "name": "stdout",
     "output_type": "stream",
     "text": [
      "Initial data size: 412624\n"
     ]
    }
   ],
   "source": [
    "df = pd.read_excel(\"/\".join([data_path, 'realestdata07032020.xlsx']))\n",
    "print(\"Initial data size: %d\" %df.shape[0])"
   ]
  },
  {
   "cell_type": "markdown",
   "metadata": {},
   "source": [
    "### Clean up data"
   ]
  },
  {
   "cell_type": "code",
   "execution_count": 5,
   "metadata": {},
   "outputs": [],
   "source": [
    "# Select only residential properties:\n",
    "df.drop((df.loc[df.TYPE_AND_USE > 10].index),inplace=True)\n",
    "#df.columns"
   ]
  },
  {
   "cell_type": "code",
   "execution_count": 6,
   "metadata": {},
   "outputs": [],
   "source": [
    "# drop observations with missing type_and_use\n",
    "df.drop(df.loc[df.TYPE_AND_USE.isnull()].index,inplace=True)"
   ]
  },
  {
   "cell_type": "code",
   "execution_count": 7,
   "metadata": {},
   "outputs": [
    {
     "data": {
      "text/plain": [
       "335199"
      ]
     },
     "execution_count": 7,
     "metadata": {},
     "output_type": "execute_result"
    }
   ],
   "source": [
    "df.shape[0]"
   ]
  },
  {
   "cell_type": "code",
   "execution_count": 8,
   "metadata": {},
   "outputs": [
    {
     "data": {
      "text/plain": [
       "Index(['OWNER1', 'OWNER2', 'Mailing_address1', 'Mailing_Address2',\n",
       "       'Mailing_Address3', 'REAL_ESTATE_ID', 'CARD_NUMBER', 'NUMBER_OF_CARDS',\n",
       "       'Street_Number', 'Street_Prefix', 'Street_Name', 'Street_Type',\n",
       "       'Street_Suffix', 'Planning_Jurisdiction', 'Street_Misc', 'Township',\n",
       "       'Fire_District', 'Land_Sale_Price', 'Land_Sale_Date', 'Zoning',\n",
       "       'Deeded_Acreage', 'Total_sale_Price', 'Total_Sale_Date',\n",
       "       'Assessed_Building_Value', 'Assessed_Land_Value',\n",
       "       'Parcel_Identification', 'Special_District1', 'Special_District2',\n",
       "       'Special_District3', 'BILLING_CLASS', 'PROPERTY_DESCRIPTION',\n",
       "       'Land_classification', 'DEED_BOOK', 'DEED_PAGE', 'Deed_Date', 'VCS',\n",
       "       'PROPERTY_INDEX', 'Year_Built', 'NUM_of_Rooms', 'UNITS', 'HEATED_AREA',\n",
       "       'UTILITIES', 'Street_pavement', 'TOPOGRAPHY', 'Year_of_Addition',\n",
       "       'Effective_year', 'Remodeled_Year', 'Special_Write_In', 'Story_Height',\n",
       "       'DESIGN_STYLE', 'Foundation_Basement', 'Foundation_Basement_Percent',\n",
       "       'Exterior_Wall', 'COMMON_WALL', 'ROOF', 'Roof_Floor_System',\n",
       "       'Floor_Finish', 'Interior_Finish', 'Interior_Finish1',\n",
       "       'Interior_Finish1_percent', 'Interior_Finish2',\n",
       "       'Interior_Finish2_percent', 'HEAT', 'HEAT_PERCENT', 'AIR',\n",
       "       'AIR_PERCENT', 'BATH', 'BATH_FIXTURES', 'Built_in1_Description',\n",
       "       'Built_in2_Description', 'Built_in3_Description',\n",
       "       'Built_in4_Description', 'Built_in5_Description', 'CITY', 'GRADE',\n",
       "       'Assessed_Grade_Difference', 'Accrued_Assessed_Condition_Pct',\n",
       "       'Land_Deferred_code', 'Land_Deferred_Amount', 'Historic_Deferred_code',\n",
       "       'Historic_Deferred_Amount', 'RECYCLED_UNITS', 'Disq_and_Qual_flag',\n",
       "       'Land_Disq_and_Qual_flag', 'TYPE_AND_USE', 'PHYSICAL_CITY',\n",
       "       'PHYSICAL_ZIP_CODE'],\n",
       "      dtype='object')"
      ]
     },
     "execution_count": 8,
     "metadata": {},
     "output_type": "execute_result"
    }
   ],
   "source": [
    "df.columns"
   ]
  },
  {
   "cell_type": "code",
   "execution_count": 9,
   "metadata": {},
   "outputs": [
    {
     "data": {
      "text/plain": [
       "18    1714.20 81 7084 000\n",
       "19    1722.11 65 9239 000\n",
       "20    0783.09 06 3610 000\n",
       "21    1784.19 52 6263 000\n",
       "22    0783.06 29 5049 000\n",
       "Name: Parcel_Identification, dtype: object"
      ]
     },
     "execution_count": 9,
     "metadata": {},
     "output_type": "execute_result"
    }
   ],
   "source": [
    "df.Parcel_Identification.iloc[:5]"
   ]
  },
  {
   "cell_type": "code",
   "execution_count": 10,
   "metadata": {},
   "outputs": [
    {
     "data": {
      "text/plain": [
       "Parcel_Identification               1714.20 81 7084 000\n",
       "OWNER1                   MICKENS, ROBERT EARL & ANNIE M\n",
       "Street_Number                                      2457\n",
       "Street_Prefix                                       NaN\n",
       "Street_Name                                      BERTIE\n",
       "Township                                              1\n",
       "Name: 18, dtype: object"
      ]
     },
     "execution_count": 10,
     "metadata": {},
     "output_type": "execute_result"
    }
   ],
   "source": [
    "df[['Parcel_Identification','OWNER1','Street_Number', 'Street_Prefix', 'Street_Name','Township']].iloc[0]"
   ]
  },
  {
   "cell_type": "markdown",
   "metadata": {},
   "source": [
    "# Get property holdings\n",
    "\n",
    "- maybe get rid of City/County owners\n",
    "- some residences don't have units despite being single-residence even multi-family"
   ]
  },
  {
   "cell_type": "code",
   "execution_count": 11,
   "metadata": {},
   "outputs": [],
   "source": [
    "cntsbyownr = df.groupby('OWNER1').UNITS.sum()"
   ]
  },
  {
   "cell_type": "code",
   "execution_count": 12,
   "metadata": {},
   "outputs": [
    {
     "data": {
      "text/plain": [
       "OWNER1\n",
       "CSP COMMUNITY OWNER LLC                1704\n",
       "HOUSING AUTH CITY OF RALEIGH           1160\n",
       "POAA II LLC                             780\n",
       "CAMDEN SUMMIT PARTNERSHIP LP            758\n",
       "MID AMERICA APARTMENTS LP               644\n",
       "NORTH RIDGE APTS LLC                    600\n",
       "NCSU                                    589\n",
       "PRIII RTP8 (WALNUT CREEK) OWNER LLC     576\n",
       "CMF 15 PORTFOLIO LLC                    574\n",
       "3110 HIDDEN POND DRIVE LLC              552\n",
       "Name: UNITS, dtype: int64"
      ]
     },
     "execution_count": 12,
     "metadata": {},
     "output_type": "execute_result"
    }
   ],
   "source": [
    "cntsbyownr.sort_values(ascending=False).head(n=10)"
   ]
  },
  {
   "cell_type": "code",
   "execution_count": 13,
   "metadata": {},
   "outputs": [
    {
     "data": {
      "text/plain": [
       "OWNER1\n",
       "SPENCER, RYAN A & ABIGAIL             0\n",
       "UPTON, DAVID MARSHALL                 0\n",
       "REID, SEAN PATRICK & BRITTANY LYNN    0\n",
       "NAYYAR, VISHESH & MAYA SIRUR          0\n",
       "BABAN, NAUSHERUAN K                   0\n",
       "HENRY, PHILLIP                        0\n",
       "HUNTLEY, ROBERT & AMIE                0\n",
       "CHAN, ERIC Y & MARIA B                0\n",
       "ELDRED, MICHAEL G & LETHA P           0\n",
       "ROGERS, JUSTIN J. & SUSAN E.          0\n",
       "Name: UNITS, dtype: int64"
      ]
     },
     "execution_count": 13,
     "metadata": {},
     "output_type": "execute_result"
    }
   ],
   "source": [
    "cntsbyownr.sort_values(ascending=False).tail(n=10)"
   ]
  },
  {
   "cell_type": "code",
   "execution_count": 14,
   "metadata": {},
   "outputs": [
    {
     "data": {
      "text/html": [
       "<div>\n",
       "<style scoped>\n",
       "    .dataframe tbody tr th:only-of-type {\n",
       "        vertical-align: middle;\n",
       "    }\n",
       "\n",
       "    .dataframe tbody tr th {\n",
       "        vertical-align: top;\n",
       "    }\n",
       "\n",
       "    .dataframe thead th {\n",
       "        text-align: right;\n",
       "    }\n",
       "</style>\n",
       "<table border=\"1\" class=\"dataframe\">\n",
       "  <thead>\n",
       "    <tr style=\"text-align: right;\">\n",
       "      <th></th>\n",
       "      <th>NUM_of_Rooms</th>\n",
       "      <th>UNITS</th>\n",
       "      <th>TYPE_AND_USE</th>\n",
       "      <th>Total_sale_Price</th>\n",
       "      <th>Land_Sale_Date</th>\n",
       "      <th>PROPERTY_DESCRIPTION</th>\n",
       "      <th>CITY</th>\n",
       "      <th>DESIGN_STYLE</th>\n",
       "    </tr>\n",
       "  </thead>\n",
       "  <tbody>\n",
       "    <tr>\n",
       "      <th>319</th>\n",
       "      <td>0</td>\n",
       "      <td>0</td>\n",
       "      <td>3.0</td>\n",
       "      <td>0</td>\n",
       "      <td>NaT</td>\n",
       "      <td>LO2 REC J &amp; H ADAMS LLC ETAL BM2001-00825</td>\n",
       "      <td>NaN</td>\n",
       "      <td>A</td>\n",
       "    </tr>\n",
       "    <tr>\n",
       "      <th>1463</th>\n",
       "      <td>0</td>\n",
       "      <td>0</td>\n",
       "      <td>5.0</td>\n",
       "      <td>0</td>\n",
       "      <td>NaT</td>\n",
       "      <td>HOMELAND SPLIT</td>\n",
       "      <td>RAL</td>\n",
       "      <td>A</td>\n",
       "    </tr>\n",
       "    <tr>\n",
       "      <th>2673</th>\n",
       "      <td>0</td>\n",
       "      <td>0</td>\n",
       "      <td>9.0</td>\n",
       "      <td>0</td>\n",
       "      <td>NaT</td>\n",
       "      <td>LO1 HILLSTONE CAMERON VILLAGE BM2018-00247</td>\n",
       "      <td>RAL</td>\n",
       "      <td>A</td>\n",
       "    </tr>\n",
       "    <tr>\n",
       "      <th>3099</th>\n",
       "      <td>0</td>\n",
       "      <td>0</td>\n",
       "      <td>1.0</td>\n",
       "      <td>841500</td>\n",
       "      <td>NaT</td>\n",
       "      <td>LO55 HIGHMOUNT SUB</td>\n",
       "      <td>RAL</td>\n",
       "      <td>NaN</td>\n",
       "    </tr>\n",
       "    <tr>\n",
       "      <th>3886</th>\n",
       "      <td>0</td>\n",
       "      <td>0</td>\n",
       "      <td>6.0</td>\n",
       "      <td>157000</td>\n",
       "      <td>NaT</td>\n",
       "      <td>LO1 JONES ST.</td>\n",
       "      <td>WAK</td>\n",
       "      <td>A</td>\n",
       "    </tr>\n",
       "    <tr>\n",
       "      <th>...</th>\n",
       "      <td>...</td>\n",
       "      <td>...</td>\n",
       "      <td>...</td>\n",
       "      <td>...</td>\n",
       "      <td>...</td>\n",
       "      <td>...</td>\n",
       "      <td>...</td>\n",
       "      <td>...</td>\n",
       "    </tr>\n",
       "    <tr>\n",
       "      <th>408427</th>\n",
       "      <td>0</td>\n",
       "      <td>0</td>\n",
       "      <td>1.0</td>\n",
       "      <td>555500</td>\n",
       "      <td>NaT</td>\n",
       "      <td>LO68 Oak Pointe PH2 BM2019-01848</td>\n",
       "      <td>APE</td>\n",
       "      <td>NaN</td>\n",
       "    </tr>\n",
       "    <tr>\n",
       "      <th>408430</th>\n",
       "      <td>0</td>\n",
       "      <td>0</td>\n",
       "      <td>1.0</td>\n",
       "      <td>536000</td>\n",
       "      <td>NaT</td>\n",
       "      <td>LO70 Oak Pointe PH2 BM2019-01848</td>\n",
       "      <td>APE</td>\n",
       "      <td>NaN</td>\n",
       "    </tr>\n",
       "    <tr>\n",
       "      <th>411773</th>\n",
       "      <td>0</td>\n",
       "      <td>0</td>\n",
       "      <td>1.0</td>\n",
       "      <td>274000</td>\n",
       "      <td>NaT</td>\n",
       "      <td>LO45 Downton Square Townhomes BM2019-01749</td>\n",
       "      <td>HOL</td>\n",
       "      <td>NaN</td>\n",
       "    </tr>\n",
       "    <tr>\n",
       "      <th>411774</th>\n",
       "      <td>0</td>\n",
       "      <td>0</td>\n",
       "      <td>1.0</td>\n",
       "      <td>0</td>\n",
       "      <td>NaT</td>\n",
       "      <td>LO46 Downton Square Townhomes BM2019-01749</td>\n",
       "      <td>HOL</td>\n",
       "      <td>NaN</td>\n",
       "    </tr>\n",
       "    <tr>\n",
       "      <th>411775</th>\n",
       "      <td>0</td>\n",
       "      <td>0</td>\n",
       "      <td>1.0</td>\n",
       "      <td>0</td>\n",
       "      <td>NaT</td>\n",
       "      <td>LO47 Downton Square Townhomes BM2019-01749</td>\n",
       "      <td>HOL</td>\n",
       "      <td>NaN</td>\n",
       "    </tr>\n",
       "  </tbody>\n",
       "</table>\n",
       "<p>1398 rows × 8 columns</p>\n",
       "</div>"
      ],
      "text/plain": [
       "        NUM_of_Rooms  UNITS  TYPE_AND_USE  Total_sale_Price Land_Sale_Date  \\\n",
       "319                0      0           3.0                 0            NaT   \n",
       "1463               0      0           5.0                 0            NaT   \n",
       "2673               0      0           9.0                 0            NaT   \n",
       "3099               0      0           1.0            841500            NaT   \n",
       "3886               0      0           6.0            157000            NaT   \n",
       "...              ...    ...           ...               ...            ...   \n",
       "408427             0      0           1.0            555500            NaT   \n",
       "408430             0      0           1.0            536000            NaT   \n",
       "411773             0      0           1.0            274000            NaT   \n",
       "411774             0      0           1.0                 0            NaT   \n",
       "411775             0      0           1.0                 0            NaT   \n",
       "\n",
       "                              PROPERTY_DESCRIPTION CITY DESIGN_STYLE  \n",
       "319      LO2 REC J & H ADAMS LLC ETAL BM2001-00825  NaN            A  \n",
       "1463                                HOMELAND SPLIT  RAL            A  \n",
       "2673    LO1 HILLSTONE CAMERON VILLAGE BM2018-00247  RAL            A  \n",
       "3099                            LO55 HIGHMOUNT SUB  RAL          NaN  \n",
       "3886                                 LO1 JONES ST.  WAK            A  \n",
       "...                                            ...  ...          ...  \n",
       "408427            LO68 Oak Pointe PH2 BM2019-01848  APE          NaN  \n",
       "408430            LO70 Oak Pointe PH2 BM2019-01848  APE          NaN  \n",
       "411773  LO45 Downton Square Townhomes BM2019-01749  HOL          NaN  \n",
       "411774  LO46 Downton Square Townhomes BM2019-01749  HOL          NaN  \n",
       "411775  LO47 Downton Square Townhomes BM2019-01749  HOL          NaN  \n",
       "\n",
       "[1398 rows x 8 columns]"
      ]
     },
     "execution_count": 14,
     "metadata": {},
     "output_type": "execute_result"
    }
   ],
   "source": [
    "df.loc[df.UNITS==0, ['NUM_of_Rooms','UNITS','TYPE_AND_USE', 'Total_sale_Price','Land_Sale_Date', 'PROPERTY_DESCRIPTION','CITY','DESIGN_STYLE']]"
   ]
  },
  {
   "cell_type": "code",
   "execution_count": 15,
   "metadata": {},
   "outputs": [
    {
     "name": "stdout",
     "output_type": "stream",
     "text": [
      "Number of observations without a description: 31\n"
     ]
    }
   ],
   "source": [
    "m = df.PROPERTY_DESCRIPTION.isnull().sum()\n",
    "print(\"Number of observations without a description: %d\" %m)"
   ]
  },
  {
   "cell_type": "code",
   "execution_count": 16,
   "metadata": {},
   "outputs": [
    {
     "data": {
      "text/html": [
       "<div>\n",
       "<style scoped>\n",
       "    .dataframe tbody tr th:only-of-type {\n",
       "        vertical-align: middle;\n",
       "    }\n",
       "\n",
       "    .dataframe tbody tr th {\n",
       "        vertical-align: top;\n",
       "    }\n",
       "\n",
       "    .dataframe thead th {\n",
       "        text-align: right;\n",
       "    }\n",
       "</style>\n",
       "<table border=\"1\" class=\"dataframe\">\n",
       "  <thead>\n",
       "    <tr style=\"text-align: right;\">\n",
       "      <th></th>\n",
       "      <th>NUM_of_Rooms</th>\n",
       "      <th>UNITS</th>\n",
       "      <th>TYPE_AND_USE</th>\n",
       "      <th>Total_sale_Price</th>\n",
       "      <th>PROPERTY_DESCRIPTION</th>\n",
       "      <th>CITY</th>\n",
       "      <th>DESIGN_STYLE</th>\n",
       "    </tr>\n",
       "  </thead>\n",
       "  <tbody>\n",
       "    <tr>\n",
       "      <th>411770</th>\n",
       "      <td>0</td>\n",
       "      <td>1</td>\n",
       "      <td>1.0</td>\n",
       "      <td>299000</td>\n",
       "      <td>LO42 Downton Square Townhomes BM2019-01749</td>\n",
       "      <td>HOL</td>\n",
       "      <td>C</td>\n",
       "    </tr>\n",
       "    <tr>\n",
       "      <th>411771</th>\n",
       "      <td>0</td>\n",
       "      <td>1</td>\n",
       "      <td>1.0</td>\n",
       "      <td>270000</td>\n",
       "      <td>LO43 Downton Square Townhomes BM2019-01749</td>\n",
       "      <td>HOL</td>\n",
       "      <td>C</td>\n",
       "    </tr>\n",
       "    <tr>\n",
       "      <th>411772</th>\n",
       "      <td>0</td>\n",
       "      <td>1</td>\n",
       "      <td>1.0</td>\n",
       "      <td>0</td>\n",
       "      <td>LO44 Downton Square Townhomes BM2019-01749</td>\n",
       "      <td>HOL</td>\n",
       "      <td>C</td>\n",
       "    </tr>\n",
       "    <tr>\n",
       "      <th>411773</th>\n",
       "      <td>0</td>\n",
       "      <td>0</td>\n",
       "      <td>1.0</td>\n",
       "      <td>274000</td>\n",
       "      <td>LO45 Downton Square Townhomes BM2019-01749</td>\n",
       "      <td>HOL</td>\n",
       "      <td>NaN</td>\n",
       "    </tr>\n",
       "    <tr>\n",
       "      <th>411774</th>\n",
       "      <td>0</td>\n",
       "      <td>0</td>\n",
       "      <td>1.0</td>\n",
       "      <td>0</td>\n",
       "      <td>LO46 Downton Square Townhomes BM2019-01749</td>\n",
       "      <td>HOL</td>\n",
       "      <td>NaN</td>\n",
       "    </tr>\n",
       "    <tr>\n",
       "      <th>411775</th>\n",
       "      <td>0</td>\n",
       "      <td>0</td>\n",
       "      <td>1.0</td>\n",
       "      <td>0</td>\n",
       "      <td>LO47 Downton Square Townhomes BM2019-01749</td>\n",
       "      <td>HOL</td>\n",
       "      <td>NaN</td>\n",
       "    </tr>\n",
       "  </tbody>\n",
       "</table>\n",
       "</div>"
      ],
      "text/plain": [
       "        NUM_of_Rooms  UNITS  TYPE_AND_USE  Total_sale_Price  \\\n",
       "411770             0      1           1.0            299000   \n",
       "411771             0      1           1.0            270000   \n",
       "411772             0      1           1.0                 0   \n",
       "411773             0      0           1.0            274000   \n",
       "411774             0      0           1.0                 0   \n",
       "411775             0      0           1.0                 0   \n",
       "\n",
       "                              PROPERTY_DESCRIPTION CITY DESIGN_STYLE  \n",
       "411770  LO42 Downton Square Townhomes BM2019-01749  HOL            C  \n",
       "411771  LO43 Downton Square Townhomes BM2019-01749  HOL            C  \n",
       "411772  LO44 Downton Square Townhomes BM2019-01749  HOL            C  \n",
       "411773  LO45 Downton Square Townhomes BM2019-01749  HOL          NaN  \n",
       "411774  LO46 Downton Square Townhomes BM2019-01749  HOL          NaN  \n",
       "411775  LO47 Downton Square Townhomes BM2019-01749  HOL          NaN  "
      ]
     },
     "execution_count": 16,
     "metadata": {},
     "output_type": "execute_result"
    }
   ],
   "source": [
    "cond = df.PROPERTY_DESCRIPTION.notnull()\n",
    "cond2 = df.loc[cond].PROPERTY_DESCRIPTION.str.contains('Downton Square Townhomes BM2019-01749')\n",
    "df.loc[cond & cond2,['NUM_of_Rooms','UNITS','TYPE_AND_USE', 'Total_sale_Price', 'PROPERTY_DESCRIPTION','CITY','DESIGN_STYLE']]"
   ]
  },
  {
   "cell_type": "code",
   "execution_count": 17,
   "metadata": {},
   "outputs": [
    {
     "data": {
      "text/html": [
       "<div>\n",
       "<style scoped>\n",
       "    .dataframe tbody tr th:only-of-type {\n",
       "        vertical-align: middle;\n",
       "    }\n",
       "\n",
       "    .dataframe tbody tr th {\n",
       "        vertical-align: top;\n",
       "    }\n",
       "\n",
       "    .dataframe thead th {\n",
       "        text-align: right;\n",
       "    }\n",
       "</style>\n",
       "<table border=\"1\" class=\"dataframe\">\n",
       "  <thead>\n",
       "    <tr style=\"text-align: right;\">\n",
       "      <th></th>\n",
       "      <th>UNITS</th>\n",
       "      <th>PROPERTY_DESCRIPTION</th>\n",
       "      <th>OWNER1</th>\n",
       "      <th>DESIGN_STYLE</th>\n",
       "    </tr>\n",
       "  </thead>\n",
       "  <tbody>\n",
       "    <tr>\n",
       "      <th>41032</th>\n",
       "      <td>2</td>\n",
       "      <td>504 N PERSON STREET</td>\n",
       "      <td>COLEMAN GROUP INC THE</td>\n",
       "      <td>A</td>\n",
       "    </tr>\n",
       "    <tr>\n",
       "      <th>44200</th>\n",
       "      <td>2</td>\n",
       "      <td>LO3 KINGDOM TRUST COMP &amp; BELLAMY RCMB BM2018-0...</td>\n",
       "      <td>BELLAMY, DANIEL &amp; QUANTINNA</td>\n",
       "      <td>A</td>\n",
       "    </tr>\n",
       "    <tr>\n",
       "      <th>57115</th>\n",
       "      <td>3</td>\n",
       "      <td>LO2 CAMERON PK BL18 BM1915-19</td>\n",
       "      <td>EWEN, TODD J. &amp; ILINA D.</td>\n",
       "      <td>A</td>\n",
       "    </tr>\n",
       "    <tr>\n",
       "      <th>59151</th>\n",
       "      <td>4</td>\n",
       "      <td>HINNICUTT PROPERTY</td>\n",
       "      <td>BRONSTEIN, RICHARD S &amp; JUANITA R</td>\n",
       "      <td>A</td>\n",
       "    </tr>\n",
       "    <tr>\n",
       "      <th>61813</th>\n",
       "      <td>2</td>\n",
       "      <td>LO441 BLOOMSBURY SUB</td>\n",
       "      <td>MCCOY, EARLE E &amp; LORRY</td>\n",
       "      <td>A</td>\n",
       "    </tr>\n",
       "    <tr>\n",
       "      <th>65139</th>\n",
       "      <td>2</td>\n",
       "      <td>LO127 BOYLAN HEIGHTS BM1885-00114</td>\n",
       "      <td>CLAY, ADRYON H</td>\n",
       "      <td>A</td>\n",
       "    </tr>\n",
       "    <tr>\n",
       "      <th>66240</th>\n",
       "      <td>3</td>\n",
       "      <td>LO127 BATTERY HGTS</td>\n",
       "      <td>HADDON, ERIC MARTIN</td>\n",
       "      <td>A</td>\n",
       "    </tr>\n",
       "    <tr>\n",
       "      <th>70512</th>\n",
       "      <td>2</td>\n",
       "      <td>LO7 TIMBERLAKE LANDS</td>\n",
       "      <td>BARAKAT, NABEGH</td>\n",
       "      <td>A</td>\n",
       "    </tr>\n",
       "    <tr>\n",
       "      <th>156828</th>\n",
       "      <td>2</td>\n",
       "      <td>MASTER CARD CAVANAUGH GARDEN HMES CONDOS</td>\n",
       "      <td>CAVANAUGH GARDEN HOMES</td>\n",
       "      <td>D</td>\n",
       "    </tr>\n",
       "    <tr>\n",
       "      <th>228155</th>\n",
       "      <td>6</td>\n",
       "      <td>LO121 WINDWARD DOWNS PH1 BM1998-1978</td>\n",
       "      <td>PIDIKITI, SREERAMA MURTHY</td>\n",
       "      <td>A</td>\n",
       "    </tr>\n",
       "    <tr>\n",
       "      <th>233700</th>\n",
       "      <td>10</td>\n",
       "      <td>LO68 CRENSHAW HALL PLANTATION P1 99-830</td>\n",
       "      <td>LILLY, DAVID P &amp; AMY L</td>\n",
       "      <td>A</td>\n",
       "    </tr>\n",
       "    <tr>\n",
       "      <th>238270</th>\n",
       "      <td>2</td>\n",
       "      <td>LO49 WINDSOR PLACE TWNHMS P2 BM1999-983</td>\n",
       "      <td>BURDI, DOLORES</td>\n",
       "      <td>C</td>\n",
       "    </tr>\n",
       "    <tr>\n",
       "      <th>251670</th>\n",
       "      <td>2</td>\n",
       "      <td>LO95 WILDERS RIDGE SUB PH3 BM2000-1520</td>\n",
       "      <td>JAMERSON, DOUGLAS</td>\n",
       "      <td>A</td>\n",
       "    </tr>\n",
       "    <tr>\n",
       "      <th>260170</th>\n",
       "      <td>10</td>\n",
       "      <td>LO471 RIVERSIDE SUB BM2001-1620</td>\n",
       "      <td>MAGEE, JOANNA</td>\n",
       "      <td>A</td>\n",
       "    </tr>\n",
       "    <tr>\n",
       "      <th>260421</th>\n",
       "      <td>10</td>\n",
       "      <td>LO33 ASHLEY PLACE SUB BM2001-01841</td>\n",
       "      <td>OKONKWO, GODWIN O</td>\n",
       "      <td>A</td>\n",
       "    </tr>\n",
       "    <tr>\n",
       "      <th>261356</th>\n",
       "      <td>10</td>\n",
       "      <td>LO24 SUMMER PL SUB PH2 BM2001-01684</td>\n",
       "      <td>KENT, ANDREW &amp; IRENE</td>\n",
       "      <td>A</td>\n",
       "    </tr>\n",
       "    <tr>\n",
       "      <th>267085</th>\n",
       "      <td>14</td>\n",
       "      <td>LO151 WESTON RIDGE SUB PH2 BM2002-555</td>\n",
       "      <td>HEMRICK, DALE R</td>\n",
       "      <td>A</td>\n",
       "    </tr>\n",
       "    <tr>\n",
       "      <th>278093</th>\n",
       "      <td>10</td>\n",
       "      <td>LO9 OLD FARM CROSSING PH2 BM2003-01478</td>\n",
       "      <td>MARIANI, STEPHEN A &amp; DONNA</td>\n",
       "      <td>A</td>\n",
       "    </tr>\n",
       "    <tr>\n",
       "      <th>279930</th>\n",
       "      <td>10</td>\n",
       "      <td>LO8 TUSCAN RIDGE SUB PH1 BM2003-1214</td>\n",
       "      <td>AMATO, KRYSTA &amp; MICHAEL</td>\n",
       "      <td>A</td>\n",
       "    </tr>\n",
       "    <tr>\n",
       "      <th>280629</th>\n",
       "      <td>10</td>\n",
       "      <td>LO31 BRIGHTON SUB PH7 BM2003-00872</td>\n",
       "      <td>PARHAM, MARTESA WEBB</td>\n",
       "      <td>A</td>\n",
       "    </tr>\n",
       "    <tr>\n",
       "      <th>282230</th>\n",
       "      <td>10</td>\n",
       "      <td>CARALEIGH MILLS CONDOMINIUM UNH-8</td>\n",
       "      <td>BENNETT, KATHLEEN</td>\n",
       "      <td>D</td>\n",
       "    </tr>\n",
       "    <tr>\n",
       "      <th>283958</th>\n",
       "      <td>10</td>\n",
       "      <td>LO109 ADDISN RESRVE TNHMS PH3-5 BM2004-00236</td>\n",
       "      <td>BARNARD, ADAM W</td>\n",
       "      <td>C</td>\n",
       "    </tr>\n",
       "    <tr>\n",
       "      <th>293504</th>\n",
       "      <td>10</td>\n",
       "      <td>LO262 ALEXANDER PLACE TWNHMS P2 04-1316</td>\n",
       "      <td>AKAJDAW, HASSAN &amp; IMANE JBARA</td>\n",
       "      <td>C</td>\n",
       "    </tr>\n",
       "    <tr>\n",
       "      <th>324616</th>\n",
       "      <td>2</td>\n",
       "      <td>LO19 MAISONS-EN-MER BM2006-01346</td>\n",
       "      <td>CROSSON, JOHN A III &amp; DENISE M</td>\n",
       "      <td>C</td>\n",
       "    </tr>\n",
       "  </tbody>\n",
       "</table>\n",
       "</div>"
      ],
      "text/plain": [
       "        UNITS                               PROPERTY_DESCRIPTION  \\\n",
       "41032       2                                504 N PERSON STREET   \n",
       "44200       2  LO3 KINGDOM TRUST COMP & BELLAMY RCMB BM2018-0...   \n",
       "57115       3                      LO2 CAMERON PK BL18 BM1915-19   \n",
       "59151       4                                 HINNICUTT PROPERTY   \n",
       "61813       2                               LO441 BLOOMSBURY SUB   \n",
       "65139       2                  LO127 BOYLAN HEIGHTS BM1885-00114   \n",
       "66240       3                                 LO127 BATTERY HGTS   \n",
       "70512       2                               LO7 TIMBERLAKE LANDS   \n",
       "156828      2           MASTER CARD CAVANAUGH GARDEN HMES CONDOS   \n",
       "228155      6               LO121 WINDWARD DOWNS PH1 BM1998-1978   \n",
       "233700     10            LO68 CRENSHAW HALL PLANTATION P1 99-830   \n",
       "238270      2            LO49 WINDSOR PLACE TWNHMS P2 BM1999-983   \n",
       "251670      2             LO95 WILDERS RIDGE SUB PH3 BM2000-1520   \n",
       "260170     10                    LO471 RIVERSIDE SUB BM2001-1620   \n",
       "260421     10                 LO33 ASHLEY PLACE SUB BM2001-01841   \n",
       "261356     10                LO24 SUMMER PL SUB PH2 BM2001-01684   \n",
       "267085     14              LO151 WESTON RIDGE SUB PH2 BM2002-555   \n",
       "278093     10             LO9 OLD FARM CROSSING PH2 BM2003-01478   \n",
       "279930     10               LO8 TUSCAN RIDGE SUB PH1 BM2003-1214   \n",
       "280629     10                 LO31 BRIGHTON SUB PH7 BM2003-00872   \n",
       "282230     10                  CARALEIGH MILLS CONDOMINIUM UNH-8   \n",
       "283958     10       LO109 ADDISN RESRVE TNHMS PH3-5 BM2004-00236   \n",
       "293504     10            LO262 ALEXANDER PLACE TWNHMS P2 04-1316   \n",
       "324616      2                   LO19 MAISONS-EN-MER BM2006-01346   \n",
       "\n",
       "                                  OWNER1 DESIGN_STYLE  \n",
       "41032              COLEMAN GROUP INC THE            A  \n",
       "44200        BELLAMY, DANIEL & QUANTINNA            A  \n",
       "57115           EWEN, TODD J. & ILINA D.            A  \n",
       "59151   BRONSTEIN, RICHARD S & JUANITA R            A  \n",
       "61813             MCCOY, EARLE E & LORRY            A  \n",
       "65139                     CLAY, ADRYON H            A  \n",
       "66240                HADDON, ERIC MARTIN            A  \n",
       "70512                    BARAKAT, NABEGH            A  \n",
       "156828            CAVANAUGH GARDEN HOMES            D  \n",
       "228155         PIDIKITI, SREERAMA MURTHY            A  \n",
       "233700            LILLY, DAVID P & AMY L            A  \n",
       "238270                    BURDI, DOLORES            C  \n",
       "251670                 JAMERSON, DOUGLAS            A  \n",
       "260170                     MAGEE, JOANNA            A  \n",
       "260421                 OKONKWO, GODWIN O            A  \n",
       "261356              KENT, ANDREW & IRENE            A  \n",
       "267085                   HEMRICK, DALE R            A  \n",
       "278093        MARIANI, STEPHEN A & DONNA            A  \n",
       "279930           AMATO, KRYSTA & MICHAEL            A  \n",
       "280629              PARHAM, MARTESA WEBB            A  \n",
       "282230                 BENNETT, KATHLEEN            D  \n",
       "283958                   BARNARD, ADAM W            C  \n",
       "293504     AKAJDAW, HASSAN & IMANE JBARA            C  \n",
       "324616    CROSSON, JOHN A III & DENISE M            C  "
      ]
     },
     "execution_count": 17,
     "metadata": {},
     "output_type": "execute_result"
    }
   ],
   "source": [
    "df.loc[(df.TYPE_AND_USE == 1) & (df.UNITS>1), ['UNITS','PROPERTY_DESCRIPTION','OWNER1','DESIGN_STYLE']]"
   ]
  },
  {
   "cell_type": "code",
   "execution_count": 18,
   "metadata": {},
   "outputs": [
    {
     "data": {
      "text/html": [
       "<div>\n",
       "<style scoped>\n",
       "    .dataframe tbody tr th:only-of-type {\n",
       "        vertical-align: middle;\n",
       "    }\n",
       "\n",
       "    .dataframe tbody tr th {\n",
       "        vertical-align: top;\n",
       "    }\n",
       "\n",
       "    .dataframe thead th {\n",
       "        text-align: right;\n",
       "    }\n",
       "</style>\n",
       "<table border=\"1\" class=\"dataframe\">\n",
       "  <thead>\n",
       "    <tr style=\"text-align: right;\">\n",
       "      <th></th>\n",
       "      <th>OWNER1</th>\n",
       "      <th>OWNER2</th>\n",
       "      <th>Mailing_address1</th>\n",
       "      <th>Mailing_Address2</th>\n",
       "      <th>Mailing_Address3</th>\n",
       "      <th>REAL_ESTATE_ID</th>\n",
       "      <th>CARD_NUMBER</th>\n",
       "      <th>NUMBER_OF_CARDS</th>\n",
       "      <th>Street_Number</th>\n",
       "      <th>Street_Prefix</th>\n",
       "      <th>...</th>\n",
       "      <th>Land_Deferred_code</th>\n",
       "      <th>Land_Deferred_Amount</th>\n",
       "      <th>Historic_Deferred_code</th>\n",
       "      <th>Historic_Deferred_Amount</th>\n",
       "      <th>RECYCLED_UNITS</th>\n",
       "      <th>Disq_and_Qual_flag</th>\n",
       "      <th>Land_Disq_and_Qual_flag</th>\n",
       "      <th>TYPE_AND_USE</th>\n",
       "      <th>PHYSICAL_CITY</th>\n",
       "      <th>PHYSICAL_ZIP_CODE</th>\n",
       "    </tr>\n",
       "  </thead>\n",
       "  <tbody>\n",
       "    <tr>\n",
       "      <th>13127</th>\n",
       "      <td>COLEMAN GROUP INC THE</td>\n",
       "      <td>NaN</td>\n",
       "      <td>115 S SAINT MARYS ST</td>\n",
       "      <td>RALEIGH NC 27603-1699</td>\n",
       "      <td>NaN</td>\n",
       "      <td>14540</td>\n",
       "      <td>1</td>\n",
       "      <td>1</td>\n",
       "      <td>118</td>\n",
       "      <td>S</td>\n",
       "      <td>...</td>\n",
       "      <td>NaN</td>\n",
       "      <td>0</td>\n",
       "      <td>NaN</td>\n",
       "      <td>0</td>\n",
       "      <td>7</td>\n",
       "      <td>A</td>\n",
       "      <td>NaN</td>\n",
       "      <td>5.0</td>\n",
       "      <td>RALEIGH</td>\n",
       "      <td>27603.0</td>\n",
       "    </tr>\n",
       "    <tr>\n",
       "      <th>13236</th>\n",
       "      <td>COLEMAN GROUP INC THE</td>\n",
       "      <td>NaN</td>\n",
       "      <td>115 S SAINT MARYS ST</td>\n",
       "      <td>RALEIGH NC 27603-1699</td>\n",
       "      <td>NaN</td>\n",
       "      <td>14660</td>\n",
       "      <td>1</td>\n",
       "      <td>1</td>\n",
       "      <td>522</td>\n",
       "      <td>NaN</td>\n",
       "      <td>...</td>\n",
       "      <td>NaN</td>\n",
       "      <td>0</td>\n",
       "      <td>NaN</td>\n",
       "      <td>0</td>\n",
       "      <td>1</td>\n",
       "      <td>T</td>\n",
       "      <td>NaN</td>\n",
       "      <td>1.0</td>\n",
       "      <td>RALEIGH</td>\n",
       "      <td>27604.0</td>\n",
       "    </tr>\n",
       "    <tr>\n",
       "      <th>41031</th>\n",
       "      <td>COLEMAN GROUP INC THE</td>\n",
       "      <td>NaN</td>\n",
       "      <td>115 S SAINT MARYS ST</td>\n",
       "      <td>RALEIGH NC 27603-1699</td>\n",
       "      <td>NaN</td>\n",
       "      <td>45880</td>\n",
       "      <td>1</td>\n",
       "      <td>2</td>\n",
       "      <td>504</td>\n",
       "      <td>N</td>\n",
       "      <td>...</td>\n",
       "      <td>NaN</td>\n",
       "      <td>0</td>\n",
       "      <td>NaN</td>\n",
       "      <td>0</td>\n",
       "      <td>4</td>\n",
       "      <td>A</td>\n",
       "      <td>NaN</td>\n",
       "      <td>3.0</td>\n",
       "      <td>RALEIGH</td>\n",
       "      <td>27604.0</td>\n",
       "    </tr>\n",
       "    <tr>\n",
       "      <th>41032</th>\n",
       "      <td>COLEMAN GROUP INC THE</td>\n",
       "      <td>NaN</td>\n",
       "      <td>115 S SAINT MARYS ST</td>\n",
       "      <td>RALEIGH NC 27603-1699</td>\n",
       "      <td>NaN</td>\n",
       "      <td>45880</td>\n",
       "      <td>2</td>\n",
       "      <td>2</td>\n",
       "      <td>311</td>\n",
       "      <td>NaN</td>\n",
       "      <td>...</td>\n",
       "      <td>NaN</td>\n",
       "      <td>0</td>\n",
       "      <td>NaN</td>\n",
       "      <td>0</td>\n",
       "      <td>4</td>\n",
       "      <td>A</td>\n",
       "      <td>NaN</td>\n",
       "      <td>1.0</td>\n",
       "      <td>RALEIGH</td>\n",
       "      <td>27604.0</td>\n",
       "    </tr>\n",
       "    <tr>\n",
       "      <th>69599</th>\n",
       "      <td>COLEMAN GROUP INC THE</td>\n",
       "      <td>NaN</td>\n",
       "      <td>115 S SAINT MARYS ST</td>\n",
       "      <td>RALEIGH NC 27603-1699</td>\n",
       "      <td>NaN</td>\n",
       "      <td>77965</td>\n",
       "      <td>1</td>\n",
       "      <td>2</td>\n",
       "      <td>425</td>\n",
       "      <td>N</td>\n",
       "      <td>...</td>\n",
       "      <td>NaN</td>\n",
       "      <td>0</td>\n",
       "      <td>NaN</td>\n",
       "      <td>0</td>\n",
       "      <td>2</td>\n",
       "      <td>A</td>\n",
       "      <td>NaN</td>\n",
       "      <td>1.0</td>\n",
       "      <td>RALEIGH</td>\n",
       "      <td>27604.0</td>\n",
       "    </tr>\n",
       "    <tr>\n",
       "      <th>69600</th>\n",
       "      <td>COLEMAN GROUP INC THE</td>\n",
       "      <td>NaN</td>\n",
       "      <td>115 S SAINT MARYS ST</td>\n",
       "      <td>RALEIGH NC 27603-1699</td>\n",
       "      <td>NaN</td>\n",
       "      <td>77965</td>\n",
       "      <td>2</td>\n",
       "      <td>2</td>\n",
       "      <td>320</td>\n",
       "      <td>NaN</td>\n",
       "      <td>...</td>\n",
       "      <td>NaN</td>\n",
       "      <td>0</td>\n",
       "      <td>NaN</td>\n",
       "      <td>0</td>\n",
       "      <td>2</td>\n",
       "      <td>A</td>\n",
       "      <td>NaN</td>\n",
       "      <td>1.0</td>\n",
       "      <td>RALEIGH</td>\n",
       "      <td>27604.0</td>\n",
       "    </tr>\n",
       "  </tbody>\n",
       "</table>\n",
       "<p>6 rows × 87 columns</p>\n",
       "</div>"
      ],
      "text/plain": [
       "                      OWNER1 OWNER2      Mailing_address1  \\\n",
       "13127  COLEMAN GROUP INC THE    NaN  115 S SAINT MARYS ST   \n",
       "13236  COLEMAN GROUP INC THE    NaN  115 S SAINT MARYS ST   \n",
       "41031  COLEMAN GROUP INC THE    NaN  115 S SAINT MARYS ST   \n",
       "41032  COLEMAN GROUP INC THE    NaN  115 S SAINT MARYS ST   \n",
       "69599  COLEMAN GROUP INC THE    NaN  115 S SAINT MARYS ST   \n",
       "69600  COLEMAN GROUP INC THE    NaN  115 S SAINT MARYS ST   \n",
       "\n",
       "            Mailing_Address2 Mailing_Address3  REAL_ESTATE_ID  CARD_NUMBER  \\\n",
       "13127  RALEIGH NC 27603-1699              NaN           14540            1   \n",
       "13236  RALEIGH NC 27603-1699              NaN           14660            1   \n",
       "41031  RALEIGH NC 27603-1699              NaN           45880            1   \n",
       "41032  RALEIGH NC 27603-1699              NaN           45880            2   \n",
       "69599  RALEIGH NC 27603-1699              NaN           77965            1   \n",
       "69600  RALEIGH NC 27603-1699              NaN           77965            2   \n",
       "\n",
       "       NUMBER_OF_CARDS  Street_Number Street_Prefix  ... Land_Deferred_code  \\\n",
       "13127                1            118             S  ...                NaN   \n",
       "13236                1            522           NaN  ...                NaN   \n",
       "41031                2            504             N  ...                NaN   \n",
       "41032                2            311           NaN  ...                NaN   \n",
       "69599                2            425             N  ...                NaN   \n",
       "69600                2            320           NaN  ...                NaN   \n",
       "\n",
       "      Land_Deferred_Amount Historic_Deferred_code Historic_Deferred_Amount  \\\n",
       "13127                    0                    NaN                        0   \n",
       "13236                    0                    NaN                        0   \n",
       "41031                    0                    NaN                        0   \n",
       "41032                    0                    NaN                        0   \n",
       "69599                    0                    NaN                        0   \n",
       "69600                    0                    NaN                        0   \n",
       "\n",
       "      RECYCLED_UNITS  Disq_and_Qual_flag  Land_Disq_and_Qual_flag  \\\n",
       "13127              7                   A                      NaN   \n",
       "13236              1                   T                      NaN   \n",
       "41031              4                   A                      NaN   \n",
       "41032              4                   A                      NaN   \n",
       "69599              2                   A                      NaN   \n",
       "69600              2                   A                      NaN   \n",
       "\n",
       "       TYPE_AND_USE PHYSICAL_CITY PHYSICAL_ZIP_CODE  \n",
       "13127           5.0       RALEIGH           27603.0  \n",
       "13236           1.0       RALEIGH           27604.0  \n",
       "41031           3.0       RALEIGH           27604.0  \n",
       "41032           1.0       RALEIGH           27604.0  \n",
       "69599           1.0       RALEIGH           27604.0  \n",
       "69600           1.0       RALEIGH           27604.0  \n",
       "\n",
       "[6 rows x 87 columns]"
      ]
     },
     "execution_count": 18,
     "metadata": {},
     "output_type": "execute_result"
    }
   ],
   "source": [
    "df[df.OWNER1.str.contains(\"COLEMAN GROUP INC\")]"
   ]
  },
  {
   "cell_type": "markdown",
   "metadata": {},
   "source": [
    "### Data issues\n",
    "\n",
    "The data aren't perfect. \n",
    "\n",
    "- There are plenty of observations with 0 units despite being existing residential units (hand-verified). \n",
    "\n",
    "- Similarly, there are a handful of observations designated as single-family residential but actually containing multiple units because they're condos, apartment complexes, etc (hand-checked a couple of addresses). This lack of use and unit designation is likely not unique to single-family properties. \n",
    "\n",
    "- There are also observations with no sale dates but prices and vice versa though exchange prices are not known for most anyway. \n",
    "\n",
    "- Of course, there are also the name issues. For example: HUANG, TONY TSENG & SUE LIAO  and HUANG, TONY TSENG TE & SUE LIAO are likely the same owners yet they won't be shown as such because of \"TE\". It's possible to hand fix some of these but not sysmetically.\n",
    "\n",
    "These things cannot be easily reconsiled so presently I'll admin that HHI estimations are approximate at best."
   ]
  },
  {
   "cell_type": "markdown",
   "metadata": {},
   "source": [
    "### Assess data"
   ]
  },
  {
   "cell_type": "code",
   "execution_count": 19,
   "metadata": {},
   "outputs": [
    {
     "name": "stdout",
     "output_type": "stream",
     "text": [
      "Number of unique owners: 299855 of 335199 observations or 0.89 of total\n"
     ]
    }
   ],
   "source": [
    "m = df.loc[:,'OWNER1'].unique().shape[0]\n",
    "n = df.shape[0]\n",
    "print(\"Number of unique owners: %d of %d observations or %.02f of total\" %(m,n,m/n))"
   ]
  },
  {
   "cell_type": "code",
   "execution_count": 20,
   "metadata": {},
   "outputs": [
    {
     "name": "stdout",
     "output_type": "stream",
     "text": [
      "Number of unique mailing addresses: 286371 and share of observations: 0.85\n"
     ]
    }
   ],
   "source": [
    "m = df.loc[:,'Mailing_address1'].unique().shape[0]\n",
    "print(\"Number of unique mailing addresses: %d and share of observations: %.2f\" %(m,m/n))"
   ]
  },
  {
   "cell_type": "code",
   "execution_count": 21,
   "metadata": {},
   "outputs": [],
   "source": [
    "cntsbyownr = df.groupby('OWNER1').UNITS.sum()"
   ]
  },
  {
   "cell_type": "code",
   "execution_count": 22,
   "metadata": {},
   "outputs": [
    {
     "data": {
      "text/plain": [
       "OWNER1\n",
       "CSP COMMUNITY OWNER LLC         1704\n",
       "HOUSING AUTH CITY OF RALEIGH    1160\n",
       "POAA II LLC                      780\n",
       "CAMDEN SUMMIT PARTNERSHIP LP     758\n",
       "MID AMERICA APARTMENTS LP        644\n",
       "                                ... \n",
       "HENRY, PHILLIP                     0\n",
       "HUNTLEY, ROBERT & AMIE             0\n",
       "CHAN, ERIC Y & MARIA B             0\n",
       "ELDRED, MICHAEL G & LETHA P        0\n",
       "ROGERS, JUSTIN J. & SUSAN E.       0\n",
       "Name: UNITS, Length: 299855, dtype: int64"
      ]
     },
     "execution_count": 22,
     "metadata": {},
     "output_type": "execute_result"
    }
   ],
   "source": [
    "cntsbyownr.sort_values(ascending=False)"
   ]
  },
  {
   "cell_type": "code",
   "execution_count": 23,
   "metadata": {},
   "outputs": [
    {
     "name": "stdout",
     "output_type": "stream",
     "text": [
      "Number of owners: 299855\n",
      "Number of owners with 0 units: 1055\n"
     ]
    }
   ],
   "source": [
    "m = (cntsbyownr==0).sum()\n",
    "n = cntsbyownr.shape[0]\n",
    "\n",
    "print(\"Number of owners: %d\" %n)\n",
    "print(\"Number of owners with 0 units: %d\" %m)"
   ]
  },
  {
   "cell_type": "markdown",
   "metadata": {},
   "source": [
    "## HHI by city"
   ]
  },
  {
   "cell_type": "code",
   "execution_count": 24,
   "metadata": {},
   "outputs": [
    {
     "data": {
      "text/plain": [
       "Index(['CITY', 'PHYSICAL_CITY'], dtype='object')"
      ]
     },
     "execution_count": 24,
     "metadata": {},
     "output_type": "execute_result"
    }
   ],
   "source": [
    "findcol('city')"
   ]
  },
  {
   "cell_type": "code",
   "execution_count": 25,
   "metadata": {},
   "outputs": [
    {
     "data": {
      "text/plain": [
       "PHYSICAL_CITY\n",
       "RALEIGH          0.000412\n",
       "WILLOW SPRING    0.000451\n",
       "WENDELL          0.000552\n",
       "ZEBULON          0.000895\n",
       "WAKE FOREST      0.000955\n",
       "CARY             0.001168\n",
       "NEW HILL         0.001247\n",
       "FUQUAY VARINA    0.001393\n",
       "APEX             0.001685\n",
       "ROLESVILLE       0.001735\n",
       "HOLLY SPRINGS    0.001777\n",
       "CLAYTON          0.002873\n",
       "GARNER           0.003864\n",
       "KNIGHTDALE       0.004383\n",
       "ANGIER           0.005025\n",
       "YOUNGSVILLE      0.005400\n",
       "CREEDMOOR        0.007392\n",
       "DURHAM           0.007412\n",
       "MORRISVILLE      0.009333\n",
       "Name: UNITS, dtype: float64"
      ]
     },
     "execution_count": 25,
     "metadata": {},
     "output_type": "execute_result"
    }
   ],
   "source": [
    "byCity = df.groupby(['PHYSICAL_CITY','OWNER1']).UNITS.sum()\n",
    "shares = byCity/byCity.groupby(level=0).transform('sum')\n",
    "(shares**2).groupby(level=0).sum().sort_values()"
   ]
  },
  {
   "cell_type": "markdown",
   "metadata": {},
   "source": [
    "### Exclude city and county owners"
   ]
  },
  {
   "cell_type": "code",
   "execution_count": 26,
   "metadata": {},
   "outputs": [],
   "source": [
    "tooust = df.loc[df.OWNER1.str.contains(\"CITY OF|COUNTY OF\"),'OWNER1'].unique()\n",
    "tooust = \"|\".join(tooust)\n",
    "\n",
    "cond = ~df.OWNER1.str.contains(tooust)"
   ]
  },
  {
   "cell_type": "code",
   "execution_count": 27,
   "metadata": {},
   "outputs": [
    {
     "data": {
      "text/plain": [
       "PHYSICAL_CITY\n",
       "RALEIGH          0.000392\n",
       "WILLOW SPRING    0.000451\n",
       "WENDELL          0.000547\n",
       "ZEBULON          0.000775\n",
       "WAKE FOREST      0.000956\n",
       "CARY             0.001168\n",
       "NEW HILL         0.001247\n",
       "FUQUAY VARINA    0.001393\n",
       "APEX             0.001686\n",
       "ROLESVILLE       0.001736\n",
       "HOLLY SPRINGS    0.001777\n",
       "CLAYTON          0.002873\n",
       "GARNER           0.003875\n",
       "KNIGHTDALE       0.004383\n",
       "ANGIER           0.005025\n",
       "YOUNGSVILLE      0.005400\n",
       "CREEDMOOR        0.007392\n",
       "DURHAM           0.007412\n",
       "MORRISVILLE      0.009333\n",
       "Name: UNITS, dtype: float64"
      ]
     },
     "execution_count": 27,
     "metadata": {},
     "output_type": "execute_result"
    }
   ],
   "source": [
    "byCity = df.loc[cond].groupby(['PHYSICAL_CITY','OWNER1']).UNITS.sum()\n",
    "shares = byCity/byCity.groupby(level=0).transform('sum')\n",
    "(shares**2).groupby(level=0).sum().sort_values()"
   ]
  },
  {
   "cell_type": "markdown",
   "metadata": {},
   "source": [
    "### HHIs by Zipcode"
   ]
  },
  {
   "cell_type": "code",
   "execution_count": 28,
   "metadata": {},
   "outputs": [
    {
     "data": {
      "text/plain": [
       "PHYSICAL_ZIP_CODE\n",
       "27592.0    0.000451\n",
       "27591.0    0.000548\n",
       "27597.0    0.000775\n",
       "27587.0    0.000956\n",
       "27502.0    0.001233\n",
       "27562.0    0.001247\n",
       "27526.0    0.001393\n",
       "27571.0    0.001737\n",
       "27540.0    0.001777\n",
       "27610.0    0.002013\n",
       "27603.0    0.002697\n",
       "27520.0    0.002873\n",
       "27604.0    0.003095\n",
       "27511.0    0.003191\n",
       "27519.0    0.003338\n",
       "27615.0    0.003371\n",
       "27616.0    0.003398\n",
       "27608.0    0.003849\n",
       "27529.0    0.003875\n",
       "27539.0    0.004176\n",
       "27614.0    0.004236\n",
       "27545.0    0.004385\n",
       "27513.0    0.004504\n",
       "27613.0    0.004662\n",
       "27501.0    0.005025\n",
       "27596.0    0.005400\n",
       "27606.0    0.005660\n",
       "27612.0    0.006101\n",
       "27609.0    0.006969\n",
       "27522.0    0.007392\n",
       "27703.0    0.007512\n",
       "27560.0    0.009333\n",
       "27518.0    0.010857\n",
       "27607.0    0.011360\n",
       "27617.0    0.016311\n",
       "27523.0    0.017071\n",
       "27601.0    0.017320\n",
       "27605.0    0.023805\n",
       "27713.0    0.209877\n",
       "0.0        0.976668\n",
       "Name: UNITS, dtype: float64"
      ]
     },
     "execution_count": 28,
     "metadata": {},
     "output_type": "execute_result"
    }
   ],
   "source": [
    "byCity = df.loc[cond].groupby(['PHYSICAL_ZIP_CODE','OWNER1']).UNITS.sum()\n",
    "shares = byCity/byCity.groupby(level=0).transform('sum')\n",
    "(shares**2).groupby(level=0).sum().sort_values()"
   ]
  },
  {
   "cell_type": "markdown",
   "metadata": {},
   "source": [
    "# HHI by Neighborhoods"
   ]
  },
  {
   "cell_type": "code",
   "execution_count": 29,
   "metadata": {},
   "outputs": [],
   "source": [
    "prs = pd.read_csv(\"/\".join([data_path, 'geocoded_wake_parcels.csv']))"
   ]
  },
  {
   "cell_type": "code",
   "execution_count": 30,
   "metadata": {},
   "outputs": [
    {
     "data": {
      "text/plain": [
       "Index(['Unnamed: 0', 'ALTPARNO', 'PARNO', 'PARUSECODE', 'PARUSEDESC',\n",
       "       'OWNNAME', 'MAILADD', 'MCITY', 'index_right', 'STATEFP10', 'COUNTYFP10',\n",
       "       'TRACTCE10', 'BLKGRPCE10', 'GEOID10'],\n",
       "      dtype='object')"
      ]
     },
     "execution_count": 30,
     "metadata": {},
     "output_type": "execute_result"
    }
   ],
   "source": [
    "prs.columns"
   ]
  },
  {
   "cell_type": "code",
   "execution_count": 31,
   "metadata": {},
   "outputs": [
    {
     "data": {
      "text/plain": [
       "290270"
      ]
     },
     "execution_count": 31,
     "metadata": {},
     "output_type": "execute_result"
    }
   ],
   "source": [
    "prs.MAILADD.unique().shape[0]"
   ]
  },
  {
   "cell_type": "code",
   "execution_count": 32,
   "metadata": {},
   "outputs": [],
   "source": [
    "prs.drop_duplicates(subset=['MAILADD','MCITY'],inplace=True)"
   ]
  },
  {
   "cell_type": "code",
   "execution_count": 33,
   "metadata": {},
   "outputs": [
    {
     "data": {
      "text/plain": [
       "291987"
      ]
     },
     "execution_count": 33,
     "metadata": {},
     "output_type": "execute_result"
    }
   ],
   "source": [
    "prs.shape[0]"
   ]
  },
  {
   "cell_type": "code",
   "execution_count": 34,
   "metadata": {},
   "outputs": [
    {
     "name": "stdout",
     "output_type": "stream",
     "text": [
      "Shape of data before merger: 335199\n",
      "Shape of data after merger: 335199\n",
      "Observations without matched block group: 11546\n"
     ]
    }
   ],
   "source": [
    "i = df.shape[0]\n",
    "print(\"Shape of data before merger: %d\" %i)\n",
    "t = df.merge(prs, right_on = ['MAILADD', 'MCITY'], left_on = ['Mailing_address1','Mailing_Address2'], how='left')\n",
    "\n",
    "j = t.shape[0]\n",
    "print(\"Shape of data after merger: %d\" %j)\n",
    "\n",
    "k = t.GEOID10.isnull().sum()\n",
    "print(\"Observations without matched block group: %d\" %k)"
   ]
  },
  {
   "cell_type": "markdown",
   "metadata": {},
   "source": [
    "Looked into some of the mailing addresses that don't have matching parcels and it seems that those addresses simply don't exist in the parcels database. This is partly because in some cases, the address was put into the system incorrectly (ie 1408 Sherron Rd as a city entry) while in other cases we see NEW YORK, NY among the entries. "
   ]
  },
  {
   "cell_type": "code",
   "execution_count": 35,
   "metadata": {},
   "outputs": [
    {
     "data": {
      "text/plain": [
       "array(['RALEIGH NC', 'FUQUAY VARINA NC', '204 MEADOW DR', ...,\n",
       "       'PROSPECT KY', 'ROGERS AR', 'CAMBRIDGE MA'], dtype=object)"
      ]
     },
     "execution_count": 35,
     "metadata": {},
     "output_type": "execute_result"
    }
   ],
   "source": [
    "t.loc[t.GEOID10.isnull(),'Mailing_Address2'].str.replace(\" \\d+-\\d+\",'').unique()"
   ]
  },
  {
   "cell_type": "markdown",
   "metadata": {},
   "source": [
    "## HHI by Track and Block Group"
   ]
  },
  {
   "cell_type": "code",
   "execution_count": 36,
   "metadata": {},
   "outputs": [],
   "source": [
    "# exclude cities and counties\n",
    "tooust = t.loc[t.OWNER1.str.contains(\"CITY OF|COUNTY OF\"),'OWNER1'].unique()\n",
    "tooust = \"|\".join(tooust)\n",
    "\n",
    "cond = ~t.OWNER1.str.contains(tooust)"
   ]
  },
  {
   "cell_type": "code",
   "execution_count": 37,
   "metadata": {},
   "outputs": [],
   "source": [
    "totals = t.loc[cond].groupby(['GEOID10','OWNER1']).UNITS.sum()\n",
    "shares = totals/totals.groupby(level=0).transform('sum')\n",
    "bgHHIs = (shares**2).groupby(level=0).sum().sort_values()"
   ]
  },
  {
   "cell_type": "code",
   "execution_count": 38,
   "metadata": {},
   "outputs": [],
   "source": [
    "unittotal = totals.groupby(level=0).sum()\n",
    "numOwners = totals.groupby(level=0).count()\n",
    "bgHHIs = pd.concat([unittotal,numOwners,bgHHIs],axis=1, keys=['nbr_units','num_owners','HHI'])"
   ]
  },
  {
   "cell_type": "code",
   "execution_count": 39,
   "metadata": {},
   "outputs": [],
   "source": [
    "totals = t.loc[cond].groupby(['TRACTCE10','OWNER1']).UNITS.sum()\n",
    "shares = totals/totals.groupby(level=0).transform('sum')\n",
    "tractHHIs = (shares**2).groupby(level=0).sum().sort_values()"
   ]
  },
  {
   "cell_type": "code",
   "execution_count": 40,
   "metadata": {},
   "outputs": [],
   "source": [
    "unittotal = totals.groupby(level=0).sum()\n",
    "numOwners = totals.groupby(level=0).count()\n",
    "tractHHIs = pd.concat([unittotal,numOwners,tractHHIs],axis=1, keys=['nbr_units','num_owners','HHI'])"
   ]
  },
  {
   "cell_type": "code",
   "execution_count": 41,
   "metadata": {},
   "outputs": [
    {
     "data": {
      "image/png": "[encoded data removed]",
      "text/plain": [
       "<Figure size 576x432 with 2 Axes>"
      ]
     },
     "metadata": {
      "needs_background": "light"
     },
     "output_type": "display_data"
    }
   ],
   "source": [
    "fig, axes = plt.subplots(1,2, sharey=True)\n",
    "fig.set_figwidth(8)\n",
    "fig.set_figheight(6)\n",
    "\n",
    "tractHHIs.HHI.plot(kind='box', ax=axes[0])\n",
    "axes[0].set_title(\"Tract level\", fontsize=18)\n",
    "axes[0].set_ylabel(\"HHI\", fontsize=16)\n",
    "\n",
    "bgHHIs.HHI.plot(kind='box', ax=axes[1])\n",
    "axes[1].set_title(\"Block Group level\", fontsize=18)\n",
    "axes[1].set_ylabel(\"HHI\", fontsize=16)\n",
    "\n",
    "plt.tight_layout()"
   ]
  },
  {
   "cell_type": "markdown",
   "metadata": {},
   "source": [
    "# Merge TIGER data with HHI output"
   ]
  },
  {
   "cell_type": "code",
   "execution_count": 42,
   "metadata": {},
   "outputs": [],
   "source": [
    "## TIGER data\n",
    "bgshp = gpd.read_file(\"/\".join([data_path, 'tl_2010_37183_bg10','tl_2010_37183_bg10.shp']))\n",
    "tractshp = gpd.read_file(\"/\".join([data_path, 'tl_2010_37183_tract10','tl_2010_37183_tract10.shp']))"
   ]
  },
  {
   "cell_type": "code",
   "execution_count": 43,
   "metadata": {},
   "outputs": [],
   "source": [
    "# drop superfluous columns\n",
    "cols2drop = ['NAMELSAD10', 'MTFCC10', 'FUNCSTAT10', 'ALAND10', 'AWATER10',\n",
    "       'INTPTLAT10', 'INTPTLON10']\n",
    "\n",
    "for tmp in [bgshp, tractshp]:\n",
    "    tmp.drop(cols2drop,axis=1,inplace=True)"
   ]
  },
  {
   "cell_type": "code",
   "execution_count": 44,
   "metadata": {},
   "outputs": [],
   "source": [
    "bgshp.loc[:,'GEOID10'] = bgshp.GEOID10.astype(np.float)\n",
    "\n",
    "# merge block group shapes to data\n",
    "bgHHIs = bgHHIs.merge(bgshp, left_index=True,right_on='GEOID10',how='left')"
   ]
  },
  {
   "cell_type": "code",
   "execution_count": 45,
   "metadata": {},
   "outputs": [],
   "source": [
    "# merger with tiger data\n",
    "tractshp.loc[:,'TRACTCE10'] = tractshp.TRACTCE10.astype(np.int)\n",
    "tractHHIs = tractHHIs.merge(tractshp, left_index=True, right_on='TRACTCE10', how='left')"
   ]
  },
  {
   "cell_type": "code",
   "execution_count": 48,
   "metadata": {},
   "outputs": [],
   "source": [
    "def labelMaker(cuts):\n",
    "    labs = []\n",
    "    for i in range(len(cuts)-1):\n",
    "        #print(i)\n",
    "        labs.append(\"%.03f - %.03f\" %(cuts[i],cuts[i+1]))\n",
    "    return(labs)   "
   ]
  },
  {
   "cell_type": "code",
   "execution_count": 49,
   "metadata": {},
   "outputs": [],
   "source": [
    "for tmp in [tractHHIs, bgHHIs]:\n",
    "    qcuts = np.array([0,.1,.2,.5,1])#tmp.HHI.quantile(np.arange(0,1.2,.2)).round(3)\n",
    "    tmp.loc[:,'qcuts'] = pd.cut(tmp.HHI, qcuts, labels = labelMaker(qcuts)).astype('str')"
   ]
  },
  {
   "cell_type": "code",
   "execution_count": 50,
   "metadata": {},
   "outputs": [
    {
     "data": {
      "text/plain": [
       "array(['0.000 - 0.100', '0.200 - 0.500', '0.100 - 0.200'], dtype=object)"
      ]
     },
     "execution_count": 50,
     "metadata": {},
     "output_type": "execute_result"
    }
   ],
   "source": [
    "tractHHIs.qcuts.unique()"
   ]
  },
  {
   "cell_type": "code",
   "execution_count": 51,
   "metadata": {},
   "outputs": [
    {
     "data": {
      "text/plain": [
       "array(['0.000 - 0.100', '0.200 - 0.500', '0.100 - 0.200', '0.500 - 1.000'],\n",
       "      dtype=object)"
      ]
     },
     "execution_count": 51,
     "metadata": {},
     "output_type": "execute_result"
    }
   ],
   "source": [
    "bgHHIs.qcuts.unique()"
   ]
  },
  {
   "cell_type": "code",
   "execution_count": 52,
   "metadata": {},
   "outputs": [],
   "source": [
    "for tmp,key in zip([tractHHIs,bgHHIs],['tract','bg']):\n",
    "    gpd.GeoDataFrame(tmp, crs = bgshp.crs).to_file(\"/\".join([data_path, \"wake_cnty_%s_hhi.shp\" %key ]))"
   ]
  }
 ],
 "metadata": {
  "kernelspec": {
   "display_name": "Python 3",
   "language": "python",
   "name": "python3"
  },
  "language_info": {
   "codemirror_mode": {
    "name": "ipython",
    "version": 3
   },
   "file_extension": ".py",
   "mimetype": "text/x-python",
   "name": "python",
   "nbconvert_exporter": "python",
   "pygments_lexer": "ipython3",
   "version": "3.7.6"
  }
 },
 "nbformat": 4,
 "nbformat_minor": 4
}
